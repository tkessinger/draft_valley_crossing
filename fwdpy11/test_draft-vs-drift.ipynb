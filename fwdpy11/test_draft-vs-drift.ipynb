{
 "cells": [
  {
   "cell_type": "markdown",
   "metadata": {},
   "source": [
    "# Draft in rapidly adapting populations\n",
    "\n",
    "## Setup\n",
    "\n",
    "Import fwdpy11 and the bubble recorder (records the total lineage size of neutral mutations, or the \"weight of the mutant bubble\")"
   ]
  },
  {
   "cell_type": "code",
   "execution_count": 1,
   "metadata": {},
   "outputs": [
    {
     "name": "stdout",
     "output_type": "stream",
     "text": [
      "Matching checksum for /Users/vancleve/science/projects/taylor_kessinger/draft_valley_crossing/fwdpy11/bubble_recorder.cpp --> not compiling\n"
     ]
    }
   ],
   "source": [
    "import numpy as np\n",
    "import fwdpy11\n",
    "import fwdpy11.model_params\n",
    "import fwdpy11.fitness\n",
    "import fwdpy11.wright_fisher\n",
    "\n",
    "# plotting stuff\n",
    "import matplotlib.pyplot as plt\n",
    "import powerlaw as pl\n",
    "\n",
    "# pybind11 C++ recorder\n",
    "import cppimport\n",
    "cppimport.set_quiet(False)\n",
    "bubble_recorder = cppimport.imp(\"bubble_recorder\")"
   ]
  },
  {
   "cell_type": "markdown",
   "metadata": {},
   "source": [
    "I will run a simulation with additive sites, exponentially distributed beneficial mutations, and uniform recombination (that we'll set very low to maximize draft). This is the simulation function."
   ]
  },
  {
   "cell_type": "code",
   "execution_count": 2,
   "metadata": {},
   "outputs": [],
   "source": [
    "def evolve_draft(ngens, N, s, mu, r, burn=500, seed=42, prune_selected=False):\n",
    "    \"\"\"\n",
    "    Evolve drafting region and record bubble sizes\n",
    "    \"\"\"\n",
    "\n",
    "    pop = fwdpy11.SlocusPop(N)\n",
    "    rng = fwdpy11.GSLrng(seed)\n",
    "\n",
    "    params = fwdpy11.model_params.SlocusParams(\n",
    "        nregions=[fwdpy11.Region(0, 1, 1)],\n",
    "        sregions=[fwdpy11.ExpS(0, 1, 1, s, 1.0)],\n",
    "        recregions=[fwdpy11.Region(0, 1, 1)],\n",
    "        gvalue=fwdpy11.fitness.SlocusAdditive(2.0),\n",
    "        demography=np.array([N]*ngens, dtype=np.uint32),\n",
    "        rates=(mu, mu, r),\n",
    "        prune_selected=prune_selected\n",
    "        )\n",
    "    # recorder = BubbleRecorder()\n",
    "    recorder = bubble_recorder.BubbleRecorder()\n",
    "\n",
    "    fwdpy11.wright_fisher.evolve(rng, pop, params, recorder)\n",
    "\n",
    "    return pop, np.array(list(recorder.weights.values()))"
   ]
  },
  {
   "cell_type": "markdown",
   "metadata": {},
   "source": [
    "Plotting is done on a log-log scale. Typically, these power laws are hard to fit, so we use a package that does this nicely and produces good plots."
   ]
  },
  {
   "cell_type": "code",
   "execution_count": 3,
   "metadata": {},
   "outputs": [],
   "source": [
    "# plot using the 'powerlaw' package and show fit\n",
    "def plot_weight_powerlaw(weights, fit=None, loc=3, N=None, s=None):\n",
    "    if fit is None:\n",
    "        fit = pl.Fit(weights, discrete=True)\n",
    "\n",
    "    fit.plot_pdf(color='b', label='empirical: N = ' + str(N) + ', s = ' + str(np.round(s,2)))\n",
    "    fit.power_law.plot_pdf(color='b', linestyle='--',\n",
    "                           label=r'power law fit: $\\alpha$ = ' + str(np.round(fit.alpha,3)))\n",
    "    plt.legend(loc=3)\n",
    "\n",
    "    return fit"
   ]
  },
  {
   "cell_type": "markdown",
   "metadata": {},
   "source": [
    "## Analysis\n",
    "\n",
    "Neher and Shraiman (2011, Genetics) show that rapidly adapting population experiencing draft have total lineage sizes (\"weights\") that fall off as $1/w^2$ (eqn 13 and Figure 6). This is in contrast to populations only experiencing drift where the total lineage sizes fall off as $1/w^{3/2}$.\n",
    "\n",
    "While I can produce this \"draft\" result using `fwdpy11`, it depends on whether or not I prune the selected mutations. If I *do prune* them, I get the correct $w^2$ scaling:"
   ]
  },
  {
   "cell_type": "code",
   "execution_count": 4,
   "metadata": {},
   "outputs": [
    {
     "name": "stdout",
     "output_type": "stream",
     "text": [
      "CPU times: user 49.2 s, sys: 413 ms, total: 49.6 s\n",
      "Wall time: 49.8 s\n"
     ]
    },
    {
     "name": "stderr",
     "output_type": "stream",
     "text": [
      "Calculating best minimal value for power law fit\n",
      "/usr/local/lib/python3.6/site-packages/powerlaw.py:697: RuntimeWarning: invalid value encountered in true_divide\n",
      "  (Theoretical_CDF * (1 - Theoretical_CDF))\n",
      "/usr/local/lib/python3.6/site-packages/powerlaw.py:697: RuntimeWarning: divide by zero encountered in true_divide\n",
      "  (Theoretical_CDF * (1 - Theoretical_CDF))\n"
     ]
    },
    {
     "data": {
      "text/plain": [
       "<powerlaw.Fit at 0x10ce9c550>"
      ]
     },
     "execution_count": 4,
     "metadata": {},
     "output_type": "execute_result"
    },
    {
     "name": "stderr",
     "output_type": "stream",
     "text": [
      "/usr/local/lib/python3.6/site-packages/matplotlib/scale.py:111: RuntimeWarning: invalid value encountered in less_equal\n",
      "  out[a <= 0] = -1000\n"
     ]
    },
    {
     "data": {
      "image/png": "[encoded data removed]",
      "text/plain": [
       "<matplotlib.figure.Figure at 0x11002a7b8>"
      ]
     },
     "metadata": {},
     "output_type": "display_data"
    }
   ],
   "source": [
    "%time out = evolve_draft(20000, 10000, 0.05, 0.001, 0.0001, seed=314, prune_selected=True)\n",
    "plot_weight_powerlaw(out[1], N=10000, s=0.05)"
   ]
  },
  {
   "cell_type": "markdown",
   "metadata": {},
   "source": [
    "However, if I don't prune the selected mutations, I get the \"drift\" scaling, even though selection is very, very strong:"
   ]
  },
  {
   "cell_type": "code",
   "execution_count": 5,
   "metadata": {},
   "outputs": [
    {
     "name": "stdout",
     "output_type": "stream",
     "text": [
      "CPU times: user 1min 27s, sys: 639 ms, total: 1min 28s\n",
      "Wall time: 1min 28s\n"
     ]
    },
    {
     "name": "stderr",
     "output_type": "stream",
     "text": [
      "Calculating best minimal value for power law fit\n",
      "/usr/local/lib/python3.6/site-packages/powerlaw.py:697: RuntimeWarning: invalid value encountered in true_divide\n",
      "  (Theoretical_CDF * (1 - Theoretical_CDF))\n",
      "/usr/local/lib/python3.6/site-packages/powerlaw.py:697: RuntimeWarning: divide by zero encountered in true_divide\n",
      "  (Theoretical_CDF * (1 - Theoretical_CDF))\n"
     ]
    },
    {
     "data": {
      "text/plain": [
       "<powerlaw.Fit at 0x10efad518>"
      ]
     },
     "execution_count": 5,
     "metadata": {},
     "output_type": "execute_result"
    },
    {
     "name": "stderr",
     "output_type": "stream",
     "text": [
      "/usr/local/lib/python3.6/site-packages/matplotlib/scale.py:111: RuntimeWarning: invalid value encountered in less_equal\n",
      "  out[a <= 0] = -1000\n"
     ]
    },
    {
     "data": {
      "image/png": "[encoded data removed]",
      "text/plain": [
       "<matplotlib.figure.Figure at 0x10efadc18>"
      ]
     },
     "metadata": {},
     "output_type": "display_data"
    }
   ],
   "source": [
    "%time out = evolve_draft(20000, 10000, 0.05, 0.001, 0.0001, seed=314, prune_selected=False)\n",
    "plot_weight_powerlaw(out[1], N=10000, s=0.05)"
   ]
  },
  {
   "cell_type": "markdown",
   "metadata": {},
   "source": [
    "This is unexpected in part because of the two scenarios to produce anomalous results, I would have expected it to be the pruned case, since this should cause changes in the absolute fitness of gametes."
   ]
  }
 ],
 "metadata": {
  "kernelspec": {
   "display_name": "Python 3",
   "language": "python",
   "name": "python3"
  },
  "language_info": {
   "codemirror_mode": {
    "name": "ipython",
    "version": 3
   },
   "file_extension": ".py",
   "mimetype": "text/x-python",
   "name": "python",
   "nbconvert_exporter": "python",
   "pygments_lexer": "ipython3",
   "version": "3.6.4"
  }
 },
 "nbformat": 4,
 "nbformat_minor": 2
}
